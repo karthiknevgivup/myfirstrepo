{
 "cells": [
  {
   "cell_type": "code",
   "execution_count": 1,
   "id": "d065cf5e",
   "metadata": {},
   "outputs": [
    {
     "name": "stdout",
     "output_type": "stream",
     "text": [
      "hello world\n"
     ]
    }
   ],
   "source": [
    "print(\"hello world\")\n",
    "#print is a function  in python\n",
    "#parenthesis are round brackets\n",
    "# single quotations and double quoataions are allowed"
   ]
  },
  {
   "cell_type": "code",
   "execution_count": 4,
   "id": "4e6f0873",
   "metadata": {},
   "outputs": [
    {
     "name": "stdout",
     "output_type": "stream",
     "text": [
      "20\n",
      "30\n",
      "karthik\n"
     ]
    }
   ],
   "source": [
    "# is a comment in python which doesnt execute and can be used as reference or explanation\n",
    "\n",
    "#variable is a container,it recognises the values assigned in name ...thats y name to values\n",
    "\n",
    "# example x=20, y=30...numbers dont need quoatations\n",
    "\n",
    "x=20\n",
    "y=30\n",
    "myname = \"karthik\"\n",
    "\n",
    "print(x)\n",
    "print(y)\n",
    "print(myname)"
   ]
  },
  {
   "cell_type": "code",
   "execution_count": 2,
   "id": "c7fd1c1f",
   "metadata": {},
   "outputs": [
    {
     "name": "stdout",
     "output_type": "stream",
     "text": [
      "karthik r\n"
     ]
    }
   ],
   "source": [
    "firstname ='karthik'\n",
    "secondname ='r'\n",
    "\n",
    "print(firstname,secondname)\n"
   ]
  },
  {
   "cell_type": "code",
   "execution_count": 6,
   "id": "430a7a11",
   "metadata": {},
   "outputs": [
    {
     "ename": "SyntaxError",
     "evalue": "invalid syntax (2787225817.py, line 4)",
     "output_type": "error",
     "traceback": [
      "\u001b[1;36m  Input \u001b[1;32mIn [6]\u001b[1;36m\u001b[0m\n\u001b[1;33m    print(the sum is ,X)\u001b[0m\n\u001b[1;37m              ^\u001b[0m\n\u001b[1;31mSyntaxError\u001b[0m\u001b[1;31m:\u001b[0m invalid syntax\n"
     ]
    }
   ],
   "source": [
    "a=25\n",
    "b=30\n",
    "X=a+b\n",
    "print(the sum is ,X)"
   ]
  },
  {
   "cell_type": "code",
   "execution_count": null,
   "id": "7439bbc4",
   "metadata": {},
   "outputs": [],
   "source": []
  }
 ],
 "metadata": {
  "kernelspec": {
   "display_name": "Python 3 (ipykernel)",
   "language": "python",
   "name": "python3"
  },
  "language_info": {
   "codemirror_mode": {
    "name": "ipython",
    "version": 3
   },
   "file_extension": ".py",
   "mimetype": "text/x-python",
   "name": "python",
   "nbconvert_exporter": "python",
   "pygments_lexer": "ipython3",
   "version": "3.9.12"
  }
 },
 "nbformat": 4,
 "nbformat_minor": 5
}
